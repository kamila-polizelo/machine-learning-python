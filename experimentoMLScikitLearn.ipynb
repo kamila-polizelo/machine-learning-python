{
  "nbformat": 4,
  "nbformat_minor": 0,
  "metadata": {
    "colab": {
      "name": "experimentoMLScikitLearn.ipynb",
      "provenance": [],
      "authorship_tag": "ABX9TyOL1vMNYu0cUTVXi47iJziZ",
      "include_colab_link": true
    },
    "kernelspec": {
      "name": "python3",
      "display_name": "Python 3"
    },
    "language_info": {
      "name": "python"
    }
  },
  "cells": [
    {
      "cell_type": "markdown",
      "metadata": {
        "id": "view-in-github",
        "colab_type": "text"
      },
      "source": [
        "<a href=\"https://colab.research.google.com/github/kamila-polizelo/machine-learning-python/blob/main/experimentoMLScikitLearn.ipynb\" target=\"_parent\"><img src=\"https://colab.research.google.com/assets/colab-badge.svg\" alt=\"Open In Colab\"/></a>"
      ]
    },
    {
      "cell_type": "code",
      "execution_count": 1,
      "metadata": {
        "id": "-7UXBh4ZOPAH"
      },
      "outputs": [],
      "source": [
        "from sklearn.datasets import load_breast_cancer \n",
        "from sklearn.datasets import load_diabetes \n",
        "from sklearn import svm \n",
        "from sklearn.tree import DecisionTreeClassifier \n",
        "from sklearn.linear_model import LinearRegression \n",
        "from sklearn.model_selection import train_test_split \n",
        "import matplotlib.pylab as plt\n",
        "%matplotlib inline"
      ]
    },
    {
      "cell_type": "code",
      "source": [
        "dataset_cancer = load_breast_cancer()\n",
        "print (dataset_cancer.feature_names)\n",
        "print (dataset_cancer.target_names)"
      ],
      "metadata": {
        "colab": {
          "base_uri": "https://localhost:8080/"
        },
        "id": "q7R3S1eTO5KY",
        "outputId": "1999fda5-2719-4160-cb89-5d675ab3fac0"
      },
      "execution_count": 3,
      "outputs": [
        {
          "output_type": "stream",
          "name": "stdout",
          "text": [
            "['mean radius' 'mean texture' 'mean perimeter' 'mean area'\n",
            " 'mean smoothness' 'mean compactness' 'mean concavity'\n",
            " 'mean concave points' 'mean symmetry' 'mean fractal dimension'\n",
            " 'radius error' 'texture error' 'perimeter error' 'area error'\n",
            " 'smoothness error' 'compactness error' 'concavity error'\n",
            " 'concave points error' 'symmetry error' 'fractal dimension error'\n",
            " 'worst radius' 'worst texture' 'worst perimeter' 'worst area'\n",
            " 'worst smoothness' 'worst compactness' 'worst concavity'\n",
            " 'worst concave points' 'worst symmetry' 'worst fractal dimension']\n",
            "['malignant' 'benign']\n"
          ]
        }
      ]
    },
    {
      "cell_type": "code",
      "source": [
        "dataset_diabetes = load_diabetes()\n",
        "print (dataset_diabetes.feature_names)\n",
        "print (dataset_diabetes.target)"
      ],
      "metadata": {
        "colab": {
          "base_uri": "https://localhost:8080/"
        },
        "id": "S569mNIdO5b3",
        "outputId": "0d49f82a-3549-451d-ef59-10a0daa9905e"
      },
      "execution_count": 4,
      "outputs": [
        {
          "output_type": "stream",
          "name": "stdout",
          "text": [
            "['age', 'sex', 'bmi', 'bp', 's1', 's2', 's3', 's4', 's5', 's6']\n",
            "[151.  75. 141. 206. 135.  97. 138.  63. 110. 310. 101.  69. 179. 185.\n",
            " 118. 171. 166. 144.  97. 168.  68.  49.  68. 245. 184. 202. 137.  85.\n",
            " 131. 283. 129.  59. 341.  87.  65. 102. 265. 276. 252.  90. 100.  55.\n",
            "  61.  92. 259.  53. 190. 142.  75. 142. 155. 225.  59. 104. 182. 128.\n",
            "  52.  37. 170. 170.  61. 144.  52. 128.  71. 163. 150.  97. 160. 178.\n",
            "  48. 270. 202. 111.  85.  42. 170. 200. 252. 113. 143.  51.  52. 210.\n",
            "  65. 141.  55. 134.  42. 111.  98. 164.  48.  96.  90. 162. 150. 279.\n",
            "  92.  83. 128. 102. 302. 198.  95.  53. 134. 144. 232.  81. 104.  59.\n",
            " 246. 297. 258. 229. 275. 281. 179. 200. 200. 173. 180.  84. 121. 161.\n",
            "  99. 109. 115. 268. 274. 158. 107.  83. 103. 272.  85. 280. 336. 281.\n",
            " 118. 317. 235.  60. 174. 259. 178. 128.  96. 126. 288.  88. 292.  71.\n",
            " 197. 186.  25.  84.  96. 195.  53. 217. 172. 131. 214.  59.  70. 220.\n",
            " 268. 152.  47.  74. 295. 101. 151. 127. 237. 225.  81. 151. 107.  64.\n",
            " 138. 185. 265. 101. 137. 143. 141.  79. 292. 178.  91. 116.  86. 122.\n",
            "  72. 129. 142.  90. 158.  39. 196. 222. 277.  99. 196. 202. 155.  77.\n",
            " 191.  70.  73.  49.  65. 263. 248. 296. 214. 185.  78.  93. 252. 150.\n",
            "  77. 208.  77. 108. 160.  53. 220. 154. 259.  90. 246. 124.  67.  72.\n",
            " 257. 262. 275. 177.  71.  47. 187. 125.  78.  51. 258. 215. 303. 243.\n",
            "  91. 150. 310. 153. 346.  63.  89.  50.  39. 103. 308. 116. 145.  74.\n",
            "  45. 115. 264.  87. 202. 127. 182. 241.  66.  94. 283.  64. 102. 200.\n",
            " 265.  94. 230. 181. 156. 233.  60. 219.  80.  68. 332. 248.  84. 200.\n",
            "  55.  85.  89.  31. 129.  83. 275.  65. 198. 236. 253. 124.  44. 172.\n",
            " 114. 142. 109. 180. 144. 163. 147.  97. 220. 190. 109. 191. 122. 230.\n",
            " 242. 248. 249. 192. 131. 237.  78. 135. 244. 199. 270. 164.  72.  96.\n",
            " 306.  91. 214.  95. 216. 263. 178. 113. 200. 139. 139.  88. 148.  88.\n",
            " 243.  71.  77. 109. 272.  60.  54. 221.  90. 311. 281. 182. 321.  58.\n",
            " 262. 206. 233. 242. 123. 167.  63. 197.  71. 168. 140. 217. 121. 235.\n",
            " 245.  40.  52. 104. 132.  88.  69. 219.  72. 201. 110.  51. 277.  63.\n",
            " 118.  69. 273. 258.  43. 198. 242. 232. 175.  93. 168. 275. 293. 281.\n",
            "  72. 140. 189. 181. 209. 136. 261. 113. 131. 174. 257.  55.  84.  42.\n",
            " 146. 212. 233.  91. 111. 152. 120.  67. 310.  94. 183.  66. 173.  72.\n",
            "  49.  64.  48. 178. 104. 132. 220.  57.]\n"
          ]
        }
      ]
    },
    {
      "cell_type": "code",
      "source": [
        "X_train_can, X_test_can, y_train_can, y_test_can = train_test_split(dataset_cancer.data, dataset_cancer.target, stratify=dataset_cancer.target, random_state=42)\n",
        "\n",
        "X_train_dia, X_test_dia, y_train_dia, y_test_dia = train_test_split(dataset_cancer.data, dataset_cancer.target, stratify=dataset_cancer.target, random_state=42)"
      ],
      "metadata": {
        "id": "8EE4X4BNO5mY"
      },
      "execution_count": 10,
      "outputs": []
    },
    {
      "cell_type": "code",
      "source": [
        "training_accuracy = []\n",
        "test_accuracy = []\n",
        "\n",
        "kernels = ['linear', 'rbf', 'sigmoid']\n",
        "for kernel in kernels:\n",
        "  svm_model = svm.SVC(kernel=kernel)\n",
        "  \n",
        "  svm_model.fit(X_train_can, y_train_can)\n",
        "  training_accuracy.append(svm_model.score(X_train_can, y_train_can))\n",
        "  test_accuracy.append(svm_model.score(X_test_can, y_test_can))\n",
        "\n",
        "plt.plot(kernels,training_accuracy, label='Acuracia no conj. treino')\n",
        "plt.plot(kernels,test_accuracy, label='Acuracia no conj. teste')\n",
        "plt.ylabel('Accuracy')\n",
        "plt.xlabel('Kernels')\n",
        "plt.legend()"
      ],
      "metadata": {
        "colab": {
          "base_uri": "https://localhost:8080/",
          "height": 296
        },
        "id": "cwLVhlrAO5pv",
        "outputId": "e0a80750-41ae-43bc-a477-1d6e90cd5d8e"
      },
      "execution_count": 20,
      "outputs": [
        {
          "output_type": "execute_result",
          "data": {
            "text/plain": [
              "<matplotlib.legend.Legend at 0x7f13bd40dc10>"
            ]
          },
          "metadata": {},
          "execution_count": 20
        },
        {
          "output_type": "display_data",
          "data": {
            "text/plain": [
              "<Figure size 432x288 with 1 Axes>"
            ],
            "image/png": "[encoded data removed]"
          },
          "metadata": {
            "needs_background": "light"
          }
        }
      ]
    },
    {
      "cell_type": "code",
      "source": [
        "training_accuracy = []\n",
        "test_accuracy = []\n",
        "\n",
        "prof_max = range(1,10)\n",
        "\n",
        "for md in prof_max:\n",
        "  tree = DecisionTreeClassifier(max_depth=md,random_state=0)\n",
        "  tree.fit(X_train_can,y_train_can)\n",
        "  training_accuracy.append(tree.score(X_train_can, y_train_can))\n",
        "  test_accuracy.append(tree.score(X_test_can, y_test_can))\n",
        "\n",
        "plt.plot(prof_max,training_accuracy, label='Acuracia no conj. treino')\n",
        "plt.plot(prof_max,test_accuracy, label='Acuracia no conj. teste')\n",
        "plt.ylabel('Acuracia')\n",
        "plt.xlabel('Profundidade Maxima')\n",
        "plt.legend()"
      ],
      "metadata": {
        "colab": {
          "base_uri": "https://localhost:8080/",
          "height": 296
        },
        "id": "fX9A30qFO-_H",
        "outputId": "c7bfa0cc-dcad-4963-9b84-d8284f2935fc"
      },
      "execution_count": 21,
      "outputs": [
        {
          "output_type": "execute_result",
          "data": {
            "text/plain": [
              "<matplotlib.legend.Legend at 0x7f13bd3a4510>"
            ]
          },
          "metadata": {},
          "execution_count": 21
        },
        {
          "output_type": "display_data",
          "data": {
            "text/plain": [
              "<Figure size 432x288 with 1 Axes>"
            ],
            "image/png": "[encoded data removed]"
          },
          "metadata": {
            "needs_background": "light"
          }
        }
      ]
    },
    {
      "cell_type": "code",
      "source": [
        "training_accuracy = []\n",
        "test_accuracy = []\n",
        "\n",
        "for interception in [True, False]:\n",
        "  regr = LinearRegression(fit_intercept=interception)\n",
        "  regr.fit(X_train_dia, y_train_dia)\n",
        "  training_accuracy.append(regr.score(X_train_dia, y_train_dia))\n",
        "  test_accuracy.append(regr.score(X_test_dia, y_test_dia))\n",
        "\n",
        "plt.plot([\"Interc\", \"No Interc\"],training_accuracy, label='Acuracia no conj. treino')\n",
        "plt.plot([\"Interc\", \"No Interc\"],test_accuracy, label='Acuracia no conj. teste')\n",
        "plt.ylabel('Acuracia')\n",
        "plt.xlabel('Fit Intercept')\n",
        "plt.legend()"
      ],
      "metadata": {
        "colab": {
          "base_uri": "https://localhost:8080/",
          "height": 296
        },
        "id": "qmHkmp-lO_DS",
        "outputId": "f24dfee6-491f-423e-ea4f-2521b16403bc"
      },
      "execution_count": 22,
      "outputs": [
        {
          "output_type": "execute_result",
          "data": {
            "text/plain": [
              "<matplotlib.legend.Legend at 0x7f13bcee42d0>"
            ]
          },
          "metadata": {},
          "execution_count": 22
        },
        {
          "output_type": "display_data",
          "data": {
            "text/plain": [
              "<Figure size 432x288 with 1 Axes>"
            ],
            "image/png": "[encoded data removed]"
          },
          "metadata": {
            "needs_background": "light"
          }
        }
      ]
    },
    {
      "cell_type": "code",
      "source": [
        ""
      ],
      "metadata": {
        "id": "LX1nmROTO_Il"
      },
      "execution_count": null,
      "outputs": []
    },
    {
      "cell_type": "code",
      "source": [
        ""
      ],
      "metadata": {
        "id": "c-7V_jGJO_NQ"
      },
      "execution_count": null,
      "outputs": []
    }
  ]
}